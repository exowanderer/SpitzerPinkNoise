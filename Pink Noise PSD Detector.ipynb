{
 "cells": [
  {
   "cell_type": "markdown",
   "metadata": {},
   "source": [
    "This notebook combines Bernie Raucsher, Jarron Leisenring, and Kevin Volk's noise generation analysis for NIRSpec, NIRCam, and NIRISS, respectively.\n",
    "\n",
    "Here we are trying to reproduce Figure 2 from Rauscher 2015 with NIRISS specific data"
   ]
  },
  {
   "cell_type": "code",
   "execution_count": 1,
   "metadata": {
    "collapsed": true
   },
   "outputs": [],
   "source": [
    "%matplotlib inline\n",
    "import os\n",
    "\n",
    "import numpy as np\n",
    "import nghxrg as ng\n",
    "\n",
    "from matplotlib import pyplot as plt\n",
    "from multiprocessing import Pool, cpu_count\n",
    "from functools import partial\n",
    "from time import time\n",
    "from scipy import signal\n",
    "from astropy.io import fits"
   ]
  },
  {
   "cell_type": "code",
   "execution_count": 2,
   "metadata": {
    "collapsed": true
   },
   "outputs": [],
   "source": [
    "os.environ['NGHXRG_HOME'] = '../nghxrg/'"
   ]
  },
  {
   "cell_type": "code",
   "execution_count": 3,
   "metadata": {
    "collapsed": true
   },
   "outputs": [],
   "source": [
    "plt.rcParams['figure.dpi'] = 150"
   ]
  },
  {
   "cell_type": "code",
   "execution_count": 4,
   "metadata": {},
   "outputs": [
    {
     "data": {
      "text/plain": [
       "8"
      ]
     },
     "execution_count": 4,
     "metadata": {},
     "output_type": "execute_result"
    }
   ],
   "source": [
    "cpu_count()"
   ]
  },
  {
   "cell_type": "code",
   "execution_count": 5,
   "metadata": {
    "collapsed": true
   },
   "outputs": [],
   "source": [
    "def plot_fft_with_window(xdata, ydata, fStart = 1, normed = True, \\\n",
    "                         logtype='semi', ax = None, Plot = False, **kwargs):\n",
    "    '''\n",
    "        >>> # Number of samplepoints\n",
    "        >>> N = 600\n",
    "        >>> # sample spacing\n",
    "        >>> T = 1.0 / 800.0\n",
    "        >>> x = np.linspace(0.0, N*T, N)\n",
    "        >>> y = np.sin(50.0 * 2.0*np.pi*x) + 0.5*np.sin(80.0 * 2.0*np.pi*x)\n",
    "    '''\n",
    "    from scipy.fftpack import fft\n",
    "    from scipy.signal import blackmanharris as blackman\n",
    "    import matplotlib.pyplot as plt\n",
    "    \n",
    "    nData       = ydata.size\n",
    "    \n",
    "    if fStart > nData/2:\n",
    "        raise Exception(\"fStart must be less than nData/2 or there won't be anything to plot\")\n",
    "    \n",
    "    spacing     = np.median(np.diff(xdata))\n",
    "    ydata_fft   = fft(ydata)\n",
    "    \n",
    "    window      = blackman(nData)\n",
    "    ydata_wfft  = fft(ydata*window)\n",
    "    \n",
    "    frequencies = np.linspace(0.0, 1.0/(2.0*spacing), nData/2)\n",
    "    frequencies = frequencies[fStart:nData//2]\n",
    "    PSD         = 2.0/nData * np.abs(ydata_wfft[fStart:nData//2])\n",
    "    \n",
    "    if Plot and ax is None:\n",
    "        fig = plt.gcf()\n",
    "        ax  = fig.add_subplot(111)\n",
    "    if Plot and 'semi' in logtype:\n",
    "        ax.semilogy(frequencies, PSD, '-', label='FFT Window', **kwargs)\n",
    "    if Plot and 'loglog' in logtype:\n",
    "        ax.loglog(  frequencies, PSD, '-', label='FFT Window', **kwargs)\n",
    "    \n",
    "    return frequencies, PSD"
   ]
  },
  {
   "cell_type": "code",
   "execution_count": 6,
   "metadata": {
    "collapsed": true
   },
   "outputs": [],
   "source": [
    "def make_cds_and_compute_psd(instance, o_file='dummy.fits', nout=4, readTime=10e-6, flipOdd=True):\n",
    "    \n",
    "    nyquistSampling = 0.5\n",
    "    \n",
    "    hdu     = instance.mknoise(o_file)\n",
    "    ny,nx   = hdu.data[1].shape\n",
    "    ampSize = nx // nout\n",
    "    \n",
    "    cds     = (hdu.data[-1] - hdu.data[0])#.reshape([nout, ny*nx/nout])\n",
    "    \n",
    "    readpaths = []\n",
    "    # Flip odd amplfiers\n",
    "    for k in range(nout):\n",
    "        if k %2 and flipOdd:\n",
    "            cds[k*ampSize:(k+1)*ampSize] = cds[k*ampSize:(k+1)*ampSize][::-1]\n",
    "        \n",
    "        readpaths.append(cds[k*ampSize:(k+1)*ampSize].flatten())\n",
    "    \n",
    "    del hdu\n",
    "    \n",
    "    freqs   = []\n",
    "    PSDs    = []\n",
    "    maxFreq = nyquistSampling / readTime\n",
    "    \n",
    "    for amp in readpaths:\n",
    "        freqsNow, PSDnow = signal.periodogram(amp, maxFreq, window='bartlett', scaling='density');\n",
    "        freqs.append(freqsNow)\n",
    "        PSDs.append(PSDnow)\n",
    "        del freqsNow, PSDnow\n",
    "    \n",
    "    del cds\n",
    "    \n",
    "    freqs = np.squeeze(freqs)\n",
    "    PSDs  = np.squeeze(PSDs)\n",
    "    \n",
    "    return np.array([freqs, PSDs])"
   ]
  },
  {
   "cell_type": "code",
   "execution_count": 7,
   "metadata": {
    "collapsed": true
   },
   "outputs": [],
   "source": [
    "ny, nx   = 2048, 2048\n",
    "ngroups  = 2 # Number of groups up the ramp\n",
    "nout     = 4 # Number of amplifier output channels\n",
    "\n",
    "nframes  = 400 # number of CDS integrations to processes\n",
    "\n",
    "ng_h2rg  = ng.HXRGNoise(naxis1=nx, naxis2=ny, n_out=nout, naxis3=ngroups)\n",
    "\n",
    "# outputs = make_cds_and_compute_psd(ng_h2rg)"
   ]
  },
  {
   "cell_type": "code",
   "execution_count": 8,
   "metadata": {},
   "outputs": [
    {
     "name": "stdout",
     "output_type": "stream",
     "text": [
      "Operation took 1981.4514627456665 seconds\n"
     ]
    }
   ],
   "source": [
    "start   = time()\n",
    "nCores  = 8\n",
    "pool    = Pool(nCores)\n",
    "\n",
    "freqs_psds = pool.starmap(partial(make_cds_and_compute_psd, flipOdd=False), zip([ng_h2rg]*nframes))\n",
    "\n",
    "pool.close()\n",
    "pool.join()\n",
    "print('Operation took {} seconds'.format(time()-start))"
   ]
  },
  {
   "cell_type": "code",
   "execution_count": 9,
   "metadata": {
    "collapsed": true
   },
   "outputs": [],
   "source": [
    "freqsList, psdsList = [], []\n",
    "for freq_psd in freqs_psds:\n",
    "    freqs4, psds4 = freq_psd\n",
    "    for freqAmp,psdAmp in zip(freqs4, psds4):\n",
    "        freqsList.append(freqAmp)\n",
    "        psdsList.append(psdAmp)"
   ]
  },
  {
   "cell_type": "code",
   "execution_count": 10,
   "metadata": {
    "collapsed": true
   },
   "outputs": [],
   "source": [
    "freqsArr = np.array(freqsList)\n",
    "psdsArr  = np.array(psdsList)"
   ]
  },
  {
   "cell_type": "code",
   "execution_count": 11,
   "metadata": {
    "collapsed": true
   },
   "outputs": [],
   "source": [
    "freqsMaster = np.mean(freqsArr,axis=0)\n",
    "PSDMaster = np.mean(psdsArr,axis=0)"
   ]
  },
  {
   "cell_type": "code",
   "execution_count": 12,
   "metadata": {
    "collapsed": true
   },
   "outputs": [],
   "source": [
    "nData       = nout*nframes*PSDMaster.size"
   ]
  },
  {
   "cell_type": "code",
   "execution_count": 28,
   "metadata": {
    "scrolled": false
   },
   "outputs": [
    {
     "data": {
      "image/png": "[encoded data removed]",
      "text/plain": [
       "<matplotlib.figure.Figure at 0x11cd7b9b0>"
      ]
     },
     "metadata": {},
     "output_type": "display_data"
    }
   ],
   "source": [
    "plt.rcParams['figure.dpi'] = 150\n",
    "# fig = plt.figure(figsize=(2,5))\n",
    "fig = plt.gcf()\n",
    "ax  = fig.add_subplot(111)\n",
    "# ax.scatter(freqsArr[0], psdsArr[0]/(nout*nframes*psdsArr[0].size) , s=.1, label='FFT Avg {} CDS'.format(nframes-1));\n",
    "# ax.scatter(freqsArr[:5].mean(axis=0), psdsArr[:5].mean(axis=0)/(nout*nframes*psdsArr[0].size) , s=.1, label='FFT Avg {} CDS'.format(nframes-1));\n",
    "# ax.scatter(freqsArr[:10].mean(axis=0), psdsArr[:10].mean(axis=0)/(nout*nframes*psdsArr[0].size) , s=.1, label='FFT Avg {} CDS'.format(nframes-1));\n",
    "# ax.scatter(freqsArr[:25].mean(axis=0), psdsArr[:25].mean(axis=0)/(nout*nframes*psdsArr[0].size) , s=.1, label='FFT Avg {} CDS'.format(nframes-1));\n",
    "# ax.scatter(freqsArr[:50].mean(axis=0), psdsArr[:50].mean(axis=0)/(nout*nframes*psdsArr[0].size) , s=.1, label='FFT Avg {} CDS'.format(nframes-1));\n",
    "# ax.scatter(freqsArr[:75].mean(axis=0), psdsArr[:75].mean(axis=0)/(nout*nframes*psdsArr[0].size) , s=.1, label='FFT Avg {} CDS'.format(nframes-1));\n",
    "ax.scatter(freqsMaster, PSDMaster/nData , s=.1, label='FFT Avg {} CDS'.format(nframes-1));\n",
    "ax.set_ylim(1e-5,1.1);\n",
    "ax.set_xlim(.05,5e4);\n",
    "ax.set_yscale('log');\n",
    "ax.set_xscale('log');\n",
    "# ax.axhline(1e-5, color='black', ls='--');\n",
    "# ax.axhline(2e-5, color='black', ls='--');\n",
    "ax.axhline(4.3069993903350501e-05, color='black', ls='--');"
   ]
  },
  {
   "cell_type": "code",
   "execution_count": 35,
   "metadata": {},
   "outputs": [
    {
     "data": {
      "text/plain": [
       "13752.708330244761"
      ]
     },
     "execution_count": 35,
     "metadata": {},
     "output_type": "execute_result"
    }
   ],
   "source": [
    "10**(np.log10(freqsMaster[useFreqs]).mean())"
   ]
  },
  {
   "cell_type": "code",
   "execution_count": 36,
   "metadata": {},
   "outputs": [
    {
     "data": {
      "text/plain": [
       "0.54421000722983748"
      ]
     },
     "execution_count": 36,
     "metadata": {},
     "output_type": "execute_result"
    }
   ],
   "source": [
    "np.sqrt(4.3069993903350501e-05*13752.708330244761/2)"
   ]
  },
  {
   "cell_type": "code",
   "execution_count": 39,
   "metadata": {},
   "outputs": [
    {
     "data": {
      "text/plain": [
       "4.3069993903350501e-05"
      ]
     },
     "execution_count": 39,
     "metadata": {},
     "output_type": "execute_result"
    }
   ],
   "source": [
    "useFreqs = (freqsMaster > 5e3)*(freqsMaster < 4e4)\n",
    "np.trapz(PSDMaster[useFreqs]/nData, freqsMaster[useFreqs]) / np.trapz(np.ones(useFreqs.sum()), freqsMaster[useFreqs])"
   ]
  },
  {
   "cell_type": "markdown",
   "metadata": {},
   "source": [
    "**GATPSY Pink Noise Test**"
   ]
  },
  {
   "cell_type": "raw",
   "metadata": {
    "collapsed": true
   },
   "source": [
    "from multiprocessing import Pool, cpu_count\n",
    "from functools import partial"
   ]
  },
  {
   "cell_type": "raw",
   "metadata": {
    "collapsed": true
   },
   "source": [
    "from multiprocessing import Pool, cpu_count\n",
    "from functools import partial\n",
    "\n",
    "import numpy as np\n",
    "import matplotlib.pyplot as plt\n",
    "\n",
    "from gatspy import periodic\n",
    "\n",
    "freqsMin = 0.1\n",
    "freqsMax = 5e4\n",
    "\n",
    "periodMin = 1/freqsMax\n",
    "periodMax = 1/freqsMin\n",
    "\n",
    "\n",
    "\n",
    "# Fit the Lomb-Scargle model\n",
    "model = periodic.LombScargleFast()\n",
    "model.fit(10e-6*(np.arange(dnow.size)+1), dnow)\n",
    "\n",
    "# Compute the scores on a grid of periods\n",
    "periods = np.linspace(periodMin, periodMax+0.1, FreqMaster.size//100 + 1)\n",
    "\n",
    "processes = 8 # cpu_count //2\n",
    "import warnings\n",
    "with warnings.catch_warnings():\n",
    "    warnings.simplefilter(\"ignore\")\n",
    "    \n",
    "    pool = Pool(processes)\n",
    "    \n",
    "    func = partial(model.score)\n",
    "    \n",
    "    scores = pool.starmap(func, zip(periods))\n",
    "    \n",
    "    pool.close()\n",
    "    pool.join()\n",
    "\n",
    "# Plot the results\n",
    "fig, ax = plt.subplots(figsize=(8, 3))\n",
    "fig.subplots_adjust(bottom=0.2)\n",
    "ax.plot(periods, scores)\n",
    "ax.set(ylabel='Lomb Scargle Power', xlabel='period (days)', xlim=(periodMin, periodMax), ylim=(0, 1))\n",
    "ax.set_yscale('log')\n",
    "ax.set_xscale('log')"
   ]
  },
  {
   "cell_type": "raw",
   "metadata": {
    "collapsed": true
   },
   "source": []
  },
  {
   "cell_type": "raw",
   "metadata": {},
   "source": [
    "# Plot the results\n",
    "fig, ax = plt.subplots(figsize=(8, 3))\n",
    "fig.subplots_adjust(bottom=0.2)\n",
    "ax.plot(periods, scores)\n",
    "ax.set(xlabel='period (days)', ylabel='Lomb Scargle Power',\n",
    "       xlim=(0.3, 0.9), ylim=(0, 1))"
   ]
  },
  {
   "cell_type": "raw",
   "metadata": {
    "collapsed": true
   },
   "source": [
    "freqsListGatspy, PSDListGatspy = [], []\n",
    "chsizeGatspy = nx // nout # Channel size (x-direction)\n",
    "for k in range(nframes-1):\n",
    "    # Reshape into (nz, ny, nout, chsize)\n",
    "    data = (my_hdu.data[k+1] - my_hdu.data[k]).reshape([-1,ny,nout,chsize])\n",
    "    \n",
    "    # Odd channels have a reverse x-direction compared to even\n",
    "    # Fast-scan readout direction is ``[-->,<--,-->,<--]``\n",
    "    # Reverse odd channels in x-direction to match even\n",
    "    for ch in range(nout):\n",
    "        if np.mod(ch,2)==1:\n",
    "            data[:,:,ch,:] = data[:,:,ch,::-1]\n",
    "    \n",
    "    # Final data reshaped into 4 flattened output channels\n",
    "    # Shape is something like (nx*ny*nz, nout)\n",
    "    data = data.transpose([0,1,3,2]).reshape([-1,nout])\n",
    "    \n",
    "    freqsListGatspy.append([]) \n",
    "    PSDListGatspy.append([])\n",
    "    for dnow in data.T:\n",
    "        frequsNow, PSDnow = # plot_fft_with_window(10e-6*np.arange(dnow.size), dnow);\n",
    "        freqsListGatspy[-1].append(frequsNowGatspy)\n",
    "        PSDListGatspy[-1].append(PSDnowGatspy)"
   ]
  }
 ],
 "metadata": {
  "kernelspec": {
   "display_name": "Python 3",
   "language": "python",
   "name": "python3"
  },
  "language_info": {
   "codemirror_mode": {
    "name": "ipython",
    "version": 3
   },
   "file_extension": ".py",
   "mimetype": "text/x-python",
   "name": "python",
   "nbconvert_exporter": "python",
   "pygments_lexer": "ipython3",
   "version": "3.6.2"
  }
 },
 "nbformat": 4,
 "nbformat_minor": 1
}
